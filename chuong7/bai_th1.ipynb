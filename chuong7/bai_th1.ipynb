{
 "cells": [
  {
   "cell_type": "code",
   "execution_count": 1,
   "id": "13f7eeab",
   "metadata": {},
   "outputs": [
    {
     "name": "stdout",
     "output_type": "stream",
     "text": [
      "Văn bản mã hóa (AES): b'9\\xd6\\xe1u\\xe0P\\x96\\xbch8\\xb1e\\xaa\\xfe\\xd4HO\\xa4r%\\xa1Y\\x12\\xad}a\\xd6\\x17\\xbfX\\x98\\xd4\\xf1\\xea\\x1a2\\xee\\x90\\xbb\\x89\\x98\\x9f\\xa8@\\xde\\xac\\xde\"C\\xca\\xd9\\xb7\\x9b\\x89\\x8d\\x1d\\xe0k[\\x89\\xaa\\xb7G\\xbc'\n",
      "Thời gian mã hóa AES: 0.012344837188720703 giây\n",
      "Văn bản giải mã (AES): Hello, this is a test message for AES encryption!\n",
      "Thời gian giải mã AES: 0.0 giây\n"
     ]
    }
   ],
   "source": [
    "from Crypto.Cipher import AES\n",
    "from Crypto.Random import get_random_bytes\n",
    "from Crypto.Util.Padding import pad, unpad\n",
    "import time\n",
    "\n",
    "# Tạo khóa mã hóa 128-bit và khởi tạo AES\n",
    "key = get_random_bytes(16)\n",
    "cipher = AES.new(key, AES.MODE_CBC)\n",
    "\n",
    "plaintext = b\"Hello, this is a test message for AES encryption!\"\n",
    "\n",
    "# Đo thời gian mã hóa AES\n",
    "start_time = time.time()\n",
    "ciphertext = cipher.encrypt(pad(plaintext, AES.block_size))\n",
    "end_time = time.time()\n",
    "\n",
    "aes_encryption_time = end_time - start_time\n",
    "\n",
    "print(\"Văn bản mã hóa (AES):\", ciphertext)\n",
    "print(\"Thời gian mã hóa AES:\", aes_encryption_time, \"giây\")\n",
    "\n",
    "# Giải mã và đo thời gian giải mã AES\n",
    "start_time = time.time()\n",
    "decipher = AES.new(key, AES.MODE_CBC, cipher.iv)\n",
    "decrypted_text = unpad(decipher.decrypt(ciphertext), AES.block_size)\n",
    "end_time = time.time()\n",
    "\n",
    "aes_decryption_time = end_time - start_time\n",
    "\n",
    "print(\"Văn bản giải mã (AES):\", decrypted_text.decode())\n",
    "print(\"Thời gian giải mã AES:\", aes_decryption_time, \"giây\")\n"
   ]
  },
  {
   "cell_type": "code",
   "execution_count": 2,
   "id": "d22fa0fa",
   "metadata": {},
   "outputs": [
    {
     "name": "stdout",
     "output_type": "stream",
     "text": [
      "Khóa AES sau khi mã hóa bằng RSA: b'{I^.;DU\\xb9\\xc2e\\xc6ik~\\x05\\xe1\\xcc0H{L\\xce{\\xb1$\\xbdE\\rX\\x88\\xd9\\x95l\\xcb\\xb5\\xa2\\xc7\\x7f\\x85\\xe4\\xa3b\\x9d/n3\\xc1Y\\x1f\\x97\\xa8\\xbf0!(!DS>\\xbeo~\\x8b4\\xe50\\xfe\\x0f\\xd5\\nj\\xb3\\x95@\\x7f\\xd3\\x04\\xbb)\\xec2l\\xe2\\xe5v\\x8baxB\\x0c\\xc2\\x08yT\\x1e\\xb1\\xdba]\\xa6\\xcd\\x12\\x12\\xef}w=\\x86\\xeb\\\\\\x12\\x8e\\xa8\\xe6\\xa9\\xe4\\x97\\x97C\\xbe\\xee\\x05\\xab%\\x81\\x9f\\xc2QQ\\xbb\\xd8\\x9fl\\xe1\\x03\\x15\\xc1\\xa1\\x84\\x97[\\x8d\\xb2\\xdb\\x88X\\x8f\\x03\\n\\xb0p\\x93\\xeb!\\xb2\\xdf\\xb4k,aT\\xb7\\xa0(\\x97\\x8a\\xfa2\\x13\\x91\\xc8\\x11l\\xfa8\\x05&\\x84\\xa9,6\\t\\xac\\xdc\\xa6\\xea\\x88PPc\\n\\x04\\xbbV\\x8bP#h\\xd1\\xb6\\xb0\\xb0}y\\xbb\\xf9\\xc8\\xacS\\xd9}\\x93\\x8ct7!\\xbceF\\xdao!]\\xcc\\xfe8}\\xb8\\xa1m7$\\x13\\x02\\\\=.N0\\xaf\\x0c\\xe3\\xa6\\xf1\\xcb\\xba\\xb7\\xec\\xcb#\\x1e\\xa2\\x1a\\xea|\\x1a'\n",
      "Thời gian mã hóa RSA: 0.0 giây\n",
      "Khóa AES sau khi giải mã: b'J<\\x07,m\\xa6\\xc1\\xe0\\x88\\xd4\\x90\\x1f[\\xacv#'\n",
      "Thời gian giải mã RSA: 0.003811359405517578 giây\n"
     ]
    }
   ],
   "source": [
    "from Crypto.PublicKey import RSA\n",
    "from Crypto.Cipher import PKCS1_OAEP\n",
    "from Crypto.Random import get_random_bytes\n",
    "import time\n",
    "\n",
    "# Tạo cặp khóa RSA\n",
    "key = RSA.generate(2048)\n",
    "private_key = key.export_key()\n",
    "public_key = key.publickey().export_key()\n",
    "\n",
    "# Mã hóa khóa AES bằng khóa công khai RSA và đo thời gian\n",
    "aes_key = get_random_bytes(16)\n",
    "cipher_rsa = PKCS1_OAEP.new(RSA.import_key(public_key))\n",
    "\n",
    "start_time = time.time()\n",
    "encrypted_aes_key = cipher_rsa.encrypt(aes_key)\n",
    "end_time = time.time()\n",
    "rsa_encryption_time = end_time - start_time\n",
    "\n",
    "print(\"Khóa AES sau khi mã hóa bằng RSA:\", encrypted_aes_key)\n",
    "print(\"Thời gian mã hóa RSA:\", rsa_encryption_time, \"giây\")\n",
    "\n",
    "# Giải mã khóa AES bằng khóa bí mật RSA và đo thời gian\n",
    "decipher_rsa = PKCS1_OAEP.new(RSA.import_key(private_key))\n",
    "\n",
    "start_time = time.time()\n",
    "decrypted_aes_key = decipher_rsa.decrypt(encrypted_aes_key)\n",
    "end_time = time.time()\n",
    "rsa_decryption_time = end_time - start_time\n",
    "\n",
    "print(\"Khóa AES sau khi giải mã:\", decrypted_aes_key)\n",
    "print(\"Thời gian giải mã RSA:\", rsa_decryption_time, \"giây\")\n"
   ]
  },
  {
   "cell_type": "code",
   "execution_count": 3,
   "id": "9ddabef5",
   "metadata": {},
   "outputs": [
    {
     "name": "stdout",
     "output_type": "stream",
     "text": [
      "Khóa AES sau khi mã hóa bằng RSA: b'\\xc1E\\xb2\\xd1\\x01jV\\x06{\\x921\\xc7\\x9a\\x1aO\\xa6|\\x99\\xbc\\x0e$\\x89z\\xb1L\\x03\\xff\\xe6\\xe3\\xba\\xfa\\x12\\xa1&\\xa3\\xe6\\xcd\\xd1\\x92\\xea\\xfd\\xd7\\xf2\\xa4G\\xdd\\xc3\\x02\\xb0\\xaa\\xaf\\x83\\x1c\\xcf\\xc8#C\\x96fT\\xe3\\x0e\\xe5\\xc9j\\x0b\\xaa\\xc9\\xf4\\xccO\\xfd]5\\x1b\\x04\\xd9vs\\xffh\\xbby\\x95\\xdc\\xfb>\\xb8I\\x83\\x83\\x0f\\x04\\x8e<\\xb2\\xe9\\xe5\\xcb\\xf5<:\\x0fB:\\xact\\xd5\\xed\\xfd\\x8f\\xdcF&\\xca\\x04\\xce\\xad,\\xd8\\xad:\\xc8m\\xb0\\xa8\\xfc{\\x01\\x961\\x98\\xf8\\xa7~\\x8d\\xee\\xce\\xc4hZ\\xf0!\\x82\\x16I-yAs\\xa5R\\x7f\\xf7\\xa2\\xc2\\xa0\\x15\\x84\\xdb\\xb2@\\'Vw\\xc8P\\xae\\xa2\\xe8\\xefa\\x01L-\\xd0\\x8d\\xf6\\xe25\\xbe\\xa9}\\xdaw=\\x04\\xfa\\xc8a\\xfc\\x03\\xf9\\xc4\\xb1\\xf6\\x06\\xd9\\xaeW\\xbfd\\xb1e*\\x99>\\x8c\\xd0\\xda\\xb2\\x87\\xf7J7VgQbY\\x87\\xf5\\x1eq\\x82\\x9c\\xca`\\xa8\\xe99E\\'\\x88\\xc3\\n\\x9a\\xfe\\xf4\\xde\\x90\\xcd&&\\x07\\x1c}\\x05\\xfe`\"I\\'\\xd7Df'\n",
      "Thời gian mã hóa RSA: 0.0 giây\n",
      "Khóa AES sau khi giải mã: b'!8\\xf5\\x15\\xa6a!\\xf6\\xee\\xf2I\\xcf\\xdf\\xe2\\xa5\\xdb'\n",
      "Thời gian giải mã RSA: 0.0 giây\n"
     ]
    }
   ],
   "source": [
    "from Crypto.PublicKey import RSA\n",
    "from Crypto.Cipher import PKCS1_OAEP\n",
    "from Crypto.Random import get_random_bytes\n",
    "import time\n",
    "\n",
    "# Tạo cặp khóa RSA\n",
    "key = RSA.generate(2048)\n",
    "private_key = key.export_key()\n",
    "public_key = key.publickey().export_key()\n",
    "\n",
    "# Mã hóa khóa AES bằng khóa công khai RSA và đo thời gian\n",
    "aes_key = get_random_bytes(16)\n",
    "cipher_rsa = PKCS1_OAEP.new(RSA.import_key(public_key))\n",
    "\n",
    "start_time = time.time()\n",
    "encrypted_aes_key = cipher_rsa.encrypt(aes_key)\n",
    "end_time = time.time()\n",
    "rsa_encryption_time = end_time - start_time\n",
    "\n",
    "print(\"Khóa AES sau khi mã hóa bằng RSA:\", encrypted_aes_key)\n",
    "print(\"Thời gian mã hóa RSA:\", rsa_encryption_time, \"giây\")\n",
    "\n",
    "# Giải mã khóa AES bằng khóa bí mật RSA và đo thời gian\n",
    "decipher_rsa = PKCS1_OAEP.new(RSA.import_key(private_key))\n",
    "\n",
    "start_time = time.time()\n",
    "decrypted_aes_key = decipher_rsa.decrypt(encrypted_aes_key)\n",
    "end_time = time.time()\n",
    "rsa_decryption_time = end_time - start_time\n",
    "\n",
    "print(\"Khóa AES sau khi giải mã:\", decrypted_aes_key)\n",
    "print(\"Thời gian giải mã RSA:\", rsa_decryption_time, \"giây\")\n"
   ]
  }
 ],
 "metadata": {
  "kernelspec": {
   "display_name": "Python 3",
   "language": "python",
   "name": "python3"
  },
  "language_info": {
   "codemirror_mode": {
    "name": "ipython",
    "version": 3
   },
   "file_extension": ".py",
   "mimetype": "text/x-python",
   "name": "python",
   "nbconvert_exporter": "python",
   "pygments_lexer": "ipython3",
   "version": "3.11.9"
  }
 },
 "nbformat": 4,
 "nbformat_minor": 5
}
